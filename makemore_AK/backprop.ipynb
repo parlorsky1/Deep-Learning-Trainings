{
 "cells": [
  {
   "cell_type": "code",
   "execution_count": 1,
   "id": "46cb6725",
   "metadata": {},
   "outputs": [],
   "source": [
    "import torch\n",
    "import torch.nn.functional as F\n",
    "import matplotlib.pyplot as plt \n",
    "from tqdm import tqdm\n",
    "%matplotlib inline"
   ]
  },
  {
   "cell_type": "code",
   "execution_count": 2,
   "id": "ed893992",
   "metadata": {},
   "outputs": [
    {
     "data": {
      "text/plain": [
       "['emma', 'olivia', 'ava', 'isabella']"
      ]
     },
     "execution_count": 2,
     "metadata": {},
     "output_type": "execute_result"
    }
   ],
   "source": [
    "\n",
    "words = open('names.txt', 'r').read().splitlines()\n",
    "words[:4]"
   ]
  },
  {
   "cell_type": "code",
   "execution_count": 3,
   "id": "b351c14e",
   "metadata": {},
   "outputs": [],
   "source": [
    "chars = sorted(list(set(''.join(words))))\n",
    "stoi = {s:i+1 for i,s in enumerate(chars)}\n",
    "stoi['.'] = 0\n",
    "itos = {i:s for s,i in stoi.items()}\n"
   ]
  },
  {
   "cell_type": "code",
   "execution_count": 227,
   "id": "6fc76dd2",
   "metadata": {},
   "outputs": [
    {
     "name": "stdout",
     "output_type": "stream",
     "text": [
      "torch.Size([182580, 3]) torch.Size([182580])\n",
      "torch.Size([22767, 3]) torch.Size([22767])\n",
      "torch.Size([22799, 3]) torch.Size([22799])\n"
     ]
    }
   ],
   "source": [
    "def build_dataset(words):\n",
    "    block_size = 3 # context length: how many characters do we take to p\n",
    "    X, Y = [], []\n",
    "    for w in words:\n",
    "        context = [0] * block_size\n",
    "        for ch in w + '.':\n",
    "            ix = stoi[ch]\n",
    "            X.append(context)\n",
    "            Y.append(ix)\n",
    "            context = context [1:] + [ix] # crop and append\n",
    "\n",
    "    X = torch.tensor(X)\n",
    "    Y = torch.tensor(Y)\n",
    "\n",
    "    print(X.shape, Y.shape)\n",
    "    return X, Y\n",
    "\n",
    "import random \n",
    "random.seed (42)\n",
    "random.shuffle(words)\n",
    "n1 = int(0.8*len(words))\n",
    "n2 = int(0.9*len(words))\n",
    "\n",
    "Xtr, Ytr = build_dataset(words[:n1])\n",
    "Xdev, Ydev = build_dataset(words[n1:n2])\n",
    "Xte, Yte = build_dataset(words[n2:])"
   ]
  },
  {
   "cell_type": "code",
   "execution_count": 228,
   "id": "25b318a1",
   "metadata": {},
   "outputs": [],
   "source": [
    "def cmp(s,dt,t):\n",
    "    ex = torch.all(dt == t.grad).item()\n",
    "    app = torch.allclose(dt,t.grad)\n",
    "    maxdiff = (dt - t.grad).abs().max().item()\n",
    "    print(f'{s:15s} | exact: {str(ex):5s} | approximate | {str(app):5s} | maxdiff: {maxdiff}')"
   ]
  },
  {
   "cell_type": "code",
   "execution_count": 248,
   "id": "248f4fe8",
   "metadata": {},
   "outputs": [],
   "source": [
    "n_hidden = 300\n",
    "embedding_size = 10\n",
    "block_size = 3\n",
    "vocab_size = 27\n",
    "\n",
    "#embedding\n",
    "g = torch.Generator().manual_seed(123)\n",
    "C = torch.randn((vocab_size,embedding_size),             generator = g)\n",
    "# first layer\n",
    "W1 = torch.randn((block_size*embedding_size,n_hidden),   generator = g) * (5/3) / ((embedding_size * block_size)**0.5)\n",
    "b1 = torch.randn(n_hidden,                               generator = g) * 0.1\n",
    "#second layer\n",
    "W2 = torch.randn((n_hidden,vocab_size),                  generator = g) * 0.1\n",
    "b2 = torch.randn(vocab_size,                             generator = g) * 0.1\n",
    "#batchnorm\n",
    "bngain = torch.ones((1,n_hidden))\n",
    "bnbias = torch.zeros((1,n_hidden))\n",
    "\n",
    "running_bnmean = torch.ones((1,n_hidden)) * 0.1 + 1\n",
    "running_bnstd = torch.zeros((1,n_hidden)) * 0.1 \n",
    "\n",
    "parameters = [C,W1,b1,W2,b2,bngain,bnbias]\n",
    "\n",
    "\n",
    "sum(p.nelement() for p in parameters)\n",
    "\n",
    "for p in parameters:\n",
    "    p.requires_grad = True"
   ]
  },
  {
   "cell_type": "code",
   "execution_count": 249,
   "id": "6dc1c4db",
   "metadata": {},
   "outputs": [],
   "source": [
    "# calculate single batch \n",
    "batch_size = 32\n",
    "n = batch_size\n",
    "\n",
    "ix = torch.randint(0, Xtr.shape[0], (batch_size,), generator = g)\n",
    "Xb,Yb = Xtr[ix], Ytr[ix]"
   ]
  },
  {
   "cell_type": "code",
   "execution_count": 253,
   "id": "f0e93236",
   "metadata": {},
   "outputs": [
    {
     "data": {
      "text/plain": [
       "tensor(3.9835, grad_fn=<NegBackward0>)"
      ]
     },
     "execution_count": 253,
     "metadata": {},
     "output_type": "execute_result"
    }
   ],
   "source": [
    "# forward pass \n",
    "\n",
    "#embed\n",
    "emb = C[Xb]\n",
    "embcat = emb.view(emb.shape[0], -1)\n",
    "#linear layer 1\n",
    "hprebn = embcat @ W1 + b1\n",
    "#batchnorm\n",
    "bnmeani = 1/n *  hprebn.sum(0, keepdim = True)\n",
    "bndiff = hprebn - bnmeani\n",
    "bndiff2 = bndiff**2\n",
    "bnvar = 1/(n-1) * (bndiff2).sum(0, keepdim = True)\n",
    "bnvar_inv = (bnvar + 1e-5) ** (-0.5)\n",
    "bnraw = bndiff * bnvar_inv\n",
    "hpreact = bngain * bnraw + bnbias\n",
    "#non-linearity\n",
    "h = torch.tanh(hpreact)\n",
    "#linear layer 2\n",
    "logits = h @ W2 + b2\n",
    "\n",
    "# cross entropy loss\n",
    "logit_maxes = logits.max(1, keepdim = True).values\n",
    "norm_logits = logits - logit_maxes\n",
    "counts = norm_logits.exp()\n",
    "counts_sum = counts.sum(1, keepdim = True)\n",
    "counts_sum_inv = counts_sum ** -1\n",
    "probs = counts*counts_sum_inv\n",
    "logprobs = probs.log()\n",
    "loss = -logprobs[range(n), Yb].mean()\n",
    "\n",
    "#backward\n",
    "for p in parameters:\n",
    "    p.grad = None\n",
    "\n",
    "for t in[logprobs, probs, counts, counts_sum, counts_sum_inv, norm_logits, logit_maxes, logits, h, hpreact, bnraw, bnvar_inv, bnvar, bndiff2, bndiff, hprebn, bnmeani, embcat, emb]:\n",
    "    t.retain_grad()\n",
    "    \n",
    "loss.backward()\n",
    "loss"
   ]
  },
  {
   "cell_type": "code",
   "execution_count": 254,
   "id": "56d4949f",
   "metadata": {},
   "outputs": [
    {
     "data": {
      "text/plain": [
       "(torch.Size([32, 300]), torch.Size([32, 300]), torch.Size([1, 300]))"
      ]
     },
     "execution_count": 254,
     "metadata": {},
     "output_type": "execute_result"
    }
   ],
   "source": [
    "bndiff.shape, hprebn.shape, bnmeani.shape"
   ]
  },
  {
   "cell_type": "code",
   "execution_count": null,
   "id": "f4158750",
   "metadata": {},
   "outputs": [],
   "source": [
    "emb = C[Xb]\n",
    "embcat = emb.view(emb.shape[0], -1)\n",
    "#linear layer 1\n",
    "hprebn = embcat @ W1 + b1"
   ]
  },
  {
   "cell_type": "code",
   "execution_count": 275,
   "id": "0d493db4",
   "metadata": {},
   "outputs": [
    {
     "data": {
      "text/plain": [
       "(torch.Size([32, 300]),\n",
       " torch.Size([32, 30]),\n",
       " torch.Size([30, 300]),\n",
       " torch.Size([300]),\n",
       " torch.Size([32, 3, 10]),\n",
       " torch.Size([27, 10]))"
      ]
     },
     "execution_count": 275,
     "metadata": {},
     "output_type": "execute_result"
    }
   ],
   "source": [
    "dhprebn.shape, embcat.shape, W1.shape, b1.shape,emb.shape,C.shape"
   ]
  },
  {
   "cell_type": "code",
   "execution_count": null,
   "id": "ca96db98",
   "metadata": {},
   "outputs": [
    {
     "name": "stdout",
     "output_type": "stream",
     "text": [
      "W1              | exact: True  | approximate | True  | maxdiff: 0.0\n",
      "embcat          | exact: True  | approximate | True  | maxdiff: 0.0\n",
      "b1              | exact: True  | approximate | True  | maxdiff: 0.0\n",
      "emb             | exact: True  | approximate | True  | maxdiff: 0.0\n",
      "C               | exact: True  | approximate | True  | maxdiff: 0.0\n"
     ]
    }
   ],
   "source": []
  },
  {
   "cell_type": "code",
   "execution_count": 262,
   "id": "9b1715d0",
   "metadata": {},
   "outputs": [
    {
     "data": {
      "text/plain": [
       "(torch.Size([300, 30]), torch.Size([30, 300]))"
      ]
     },
     "execution_count": 262,
     "metadata": {},
     "output_type": "execute_result"
    }
   ],
   "source": [
    "dW1.shape,W1.shape"
   ]
  },
  {
   "cell_type": "code",
   "execution_count": null,
   "id": "0fc7c51f",
   "metadata": {},
   "outputs": [],
   "source": []
  },
  {
   "cell_type": "code",
   "execution_count": null,
   "id": "2652ec38",
   "metadata": {},
   "outputs": [],
   "source": []
  },
  {
   "cell_type": "code",
   "execution_count": null,
   "id": "8688ae84",
   "metadata": {},
   "outputs": [],
   "source": []
  },
  {
   "cell_type": "code",
   "execution_count": null,
   "id": "7cfaf68b",
   "metadata": {},
   "outputs": [],
   "source": []
  },
  {
   "cell_type": "code",
   "execution_count": 278,
   "id": "930e660b",
   "metadata": {},
   "outputs": [
    {
     "name": "stdout",
     "output_type": "stream",
     "text": [
      "logprobs        | exact: True  | approximate | True  | maxdiff: 0.0\n",
      "probs           | exact: True  | approximate | True  | maxdiff: 0.0\n",
      "counts_sum_inv  | exact: True  | approximate | True  | maxdiff: 0.0\n",
      "dcounts_sum     | exact: True  | approximate | True  | maxdiff: 0.0\n",
      "counts          | exact: True  | approximate | True  | maxdiff: 0.0\n",
      "norm_logits     | exact: True  | approximate | True  | maxdiff: 0.0\n",
      "logit_maxes     | exact: True  | approximate | True  | maxdiff: 0.0\n",
      "logits          | exact: True  | approximate | True  | maxdiff: 0.0\n",
      "h               | exact: True  | approximate | True  | maxdiff: 0.0\n",
      "w2              | exact: True  | approximate | True  | maxdiff: 0.0\n",
      "b2              | exact: True  | approximate | True  | maxdiff: 0.0\n",
      "hpreact         | exact: True  | approximate | True  | maxdiff: 0.0\n",
      "bngain          | exact: True  | approximate | True  | maxdiff: 0.0\n",
      "bnraw           | exact: True  | approximate | True  | maxdiff: 0.0\n",
      "bnbias          | exact: True  | approximate | True  | maxdiff: 0.0\n",
      "bnvar_inv       | exact: True  | approximate | True  | maxdiff: 0.0\n",
      "bnvar           | exact: True  | approximate | True  | maxdiff: 0.0\n",
      "bndiff2         | exact: True  | approximate | True  | maxdiff: 0.0\n",
      "bndiff          | exact: True  | approximate | True  | maxdiff: 0.0\n",
      "bnmeani         | exact: True  | approximate | True  | maxdiff: 0.0\n",
      "hprebn          | exact: True  | approximate | True  | maxdiff: 0.0\n",
      "W1              | exact: True  | approximate | True  | maxdiff: 0.0\n",
      "embcat          | exact: True  | approximate | True  | maxdiff: 0.0\n",
      "b1              | exact: True  | approximate | True  | maxdiff: 0.0\n",
      "emb             | exact: True  | approximate | True  | maxdiff: 0.0\n",
      "C               | exact: True  | approximate | True  | maxdiff: 0.0\n"
     ]
    }
   ],
   "source": [
    "dlogprobs = torch.zeros_like(logprobs)\n",
    "dlogprobs[range(n),Yb] = -1.0/n\n",
    "cmp('logprobs', dlogprobs,logprobs)\n",
    "\n",
    "dprobs = probs**-1 * dlogprobs\n",
    "cmp('probs', dprobs,probs)\n",
    "\n",
    "\n",
    "dcounts_sum_inv =  (counts * dprobs).sum(1, keepdim = True)\n",
    "cmp('counts_sum_inv', dcounts_sum_inv, counts_sum_inv)\n",
    "\n",
    "dcounts_sum = dcounts_sum_inv * -1 * counts_sum**-2\n",
    "cmp('dcounts_sum', dcounts_sum, counts_sum)\n",
    "\n",
    "dcounts = counts_sum_inv * dprobs\n",
    "dcounts += torch.ones_like(counts) * dcounts_sum\n",
    "cmp('counts', dcounts,counts)\n",
    "\n",
    "dnorm_logits = norm_logits.exp() * dcounts\n",
    "cmp('norm_logits', dnorm_logits, norm_logits)\n",
    "\n",
    "dlogit_maxes = (-dnorm_logits).sum(1, keepdim=True)\n",
    "cmp('logit_maxes', dlogit_maxes,logit_maxes)\n",
    "\n",
    "dlogits = dnorm_logits.clone()\n",
    "dlogits += F.one_hot(logits.max(1).indices, num_classes=logits.shape[1]) * dlogit_maxes\n",
    "cmp('logits', dlogits,logits)\n",
    "\n",
    "dh = dlogits @ W2.T\n",
    "cmp('h', dh,h)\n",
    "\n",
    "dW2 = h.T @ dlogits\n",
    "cmp('w2', dW2,W2)\n",
    "\n",
    "db2 = dlogits.clone().sum(0, keepdim = True)\n",
    "cmp('b2', db2,b2)\n",
    "\n",
    "dhpreact = (1 - torch.tanh(hpreact)**2) * dh\n",
    "cmp('hpreact', dhpreact,hpreact)\n",
    "\n",
    "dbngain = (bnraw * dhpreact).sum(0, keepdim=True)\n",
    "cmp('bngain', dbngain,bngain)\n",
    "\n",
    "dbnraw = dhpreact * torch.ones_like(bnraw)*bngain\n",
    "cmp('bnraw', dbnraw,bnraw)\n",
    "\n",
    "dbnbias = dhpreact.sum(0, keepdim = True)\n",
    "cmp('bnbias', dbnbias, bnbias)\n",
    "\n",
    "dbnvar_inv = (dbnraw * bndiff).sum(0, keepdim = True)\n",
    "cmp('bnvar_inv', dbnvar_inv, bnvar_inv)\n",
    "\n",
    "dbnvar = dbnvar_inv * (bnvar + 1e-5)**(-3/2) * (-0.5)\n",
    "cmp('bnvar', dbnvar, bnvar)\n",
    "\n",
    "dbndiff2 = 1/(n-1) * torch.ones_like(bndiff2) * dbnvar\n",
    "cmp('bndiff2', dbndiff2,bndiff2)\n",
    "\n",
    "dbndiff = 2*bndiff * dbndiff2 + dbnraw * torch.ones_like(bndiff) * bnvar_inv\n",
    "cmp('bndiff', dbndiff, bndiff)\n",
    "\n",
    "dhprebn =  dbndiff.clone()\n",
    "dbnmeani = (-dbndiff).sum(0)\n",
    "cmp('bnmeani', dbnmeani,bnmeani)\n",
    "\n",
    "dhprebn += 1.0/n * (torch.ones_like(hprebn) * dbnmeani)\n",
    "cmp('hprebn', dhprebn, hprebn)\n",
    "\n",
    "dW1 = embcat.T @ dhprebn\n",
    "cmp('W1', dW1,W1)\n",
    "\n",
    "dembcat = dhprebn @ W1.T\n",
    "cmp('embcat', dembcat, embcat)\n",
    "\n",
    "db1 = dhprebn.sum(0)\n",
    "cmp('b1', db1,b1)\n",
    "\n",
    "demb = dembcat.view((32,3,-1))\n",
    "cmp('emb',demb,emb)\n",
    "\n",
    "dC = torch.zeros_like(C)\n",
    "for k in range(Xb.shape[0]):\n",
    "    for j in range(Xb.shape[1]):\n",
    "        ix = Xb[k,j]\n",
    "        dC[ix] += demb[k,j]\n",
    "\n",
    "cmp('C',dC,C)"
   ]
  },
  {
   "cell_type": "code",
   "execution_count": 279,
   "id": "62eac801",
   "metadata": {},
   "outputs": [
    {
     "data": {
      "text/plain": [
       "tensor(3.9835, grad_fn=<NllLossBackward0>)"
      ]
     },
     "execution_count": 279,
     "metadata": {},
     "output_type": "execute_result"
    }
   ],
   "source": [
    "loss_last = F.cross_entropy(logits, Yb)\n",
    "loss_last"
   ]
  },
  {
   "cell_type": "code",
   "execution_count": 291,
   "id": "b80d89ce",
   "metadata": {},
   "outputs": [
    {
     "name": "stdout",
     "output_type": "stream",
     "text": [
      "logits          | exact: False | approximate | True  | maxdiff: 7.916241884231567e-09\n"
     ]
    }
   ],
   "source": [
    "dlogits = F.softmax(logits, 1)\n",
    "dlogits[range(n), Yb] -= 1\n",
    "dlogits /= n\n",
    "cmp('logits',dlogits,logits)"
   ]
  },
  {
   "cell_type": "code",
   "execution_count": null,
   "id": "a0bbc8f7",
   "metadata": {},
   "outputs": [],
   "source": []
  },
  {
   "cell_type": "code",
   "execution_count": 59,
   "id": "1c25ef53",
   "metadata": {},
   "outputs": [
    {
     "name": "stderr",
     "output_type": "stream",
     "text": [
      "100%|██████████| 10000/10000 [00:44<00:00, 222.59it/s]"
     ]
    },
    {
     "name": "stdout",
     "output_type": "stream",
     "text": [
      "3.0187876224517822\n"
     ]
    },
    {
     "name": "stderr",
     "output_type": "stream",
     "text": [
      "\n"
     ]
    }
   ],
   "source": [
    "batch_size = 32\n",
    "\n",
    "for _ in tqdm(range(10000)):\n",
    "    #minibatch construct\n",
    "    ix = torch.randint(0,Xtr.shape[0],(batch_size,), generator = g)\n",
    "\n",
    "    Xb,Yb = Xtr[ix], Ytr[ix]\n",
    "    #forward\n",
    "    emb = C[Xb]\n",
    "    embcat = emb.view(emb.shape[0],-1)\n",
    "    hpreact = embcat @ W1 + b1 #pre activation \n",
    "    bnmeani =  hpreact.mean(0, keepdim = True)\n",
    "    bnstdi = hpreact.std(0, keepdim = True)\n",
    "    hpreact = bngain * ((hpreact - bnmeani) / bnstdi) + bnbias\n",
    "    h = torch.tanh(hpreact)\n",
    "    logits = h @ W2 + b2\n",
    "    loss = F.cross_entropy(logits,Yb)\n",
    "    \n",
    "    \n",
    "    #backward\n",
    "    for p in parameters:\n",
    "        p.grad = None\n",
    "    loss.backward()\n",
    "\n",
    "    with torch.no_grad():\n",
    "        running_bnmean = running_bnmean * 0.999 + bnmeani * 0.001\n",
    "        running_bnstd = running_bnstd * 0.999 + bnstdi * 0.001\n",
    "\n",
    "\n",
    "\n",
    "    #update\n",
    "    lr = 0.01\n",
    "    for p in parameters:\n",
    "        p.data += -lr * p.grad\n",
    "\n",
    "    stepi.append(_)\n",
    "    lossi.append(loss.log10().item())\n",
    "print(loss.item())"
   ]
  },
  {
   "cell_type": "code",
   "execution_count": 60,
   "id": "4334098a",
   "metadata": {},
   "outputs": [
    {
     "data": {
      "text/plain": [
       "[<matplotlib.lines.Line2D at 0x7fe392980670>]"
      ]
     },
     "execution_count": 60,
     "metadata": {},
     "output_type": "execute_result"
    },
    {
     "data": {
      "image/png": "[encoded data removed]",
      "text/plain": [
       "<Figure size 640x480 with 1 Axes>"
      ]
     },
     "metadata": {},
     "output_type": "display_data"
    }
   ],
   "source": [
    "plt.plot(stepi,lossi)"
   ]
  },
  {
   "cell_type": "code",
   "execution_count": 61,
   "id": "ce122601",
   "metadata": {},
   "outputs": [
    {
     "name": "stdout",
     "output_type": "stream",
     "text": [
      "train 2.4744350910186768\n",
      "val 2.4798104763031006\n"
     ]
    }
   ],
   "source": [
    "@torch.no_grad() # this decorator disables gradient tracking\n",
    "def split_loss(split):\n",
    "    x,y  = {\n",
    "    'train': (Xtr, Ytr),\n",
    "    'val': (Xdev, Ydev),\n",
    "    'test': (Xte, Yte),\n",
    "    }[split]\n",
    "    emb = C[x] # (N, block_size, n_embd)\n",
    "    embcat = emb.view(emb.shape[0], -1) # concat into (N, block_size * n_embd)\n",
    "    hpreact = embcat @ W1 + b1\n",
    "    # hpreact = bngain * (hpreact - hpreact.mean(0, keepdim=True)) / hpreact. std(0, keepdim=True) + bnbias\n",
    "    hpreact = bngain * ((hpreact - running_bnmean) / running_bnstd) + bnbias\n",
    "    h = torch.tanh(hpreact) # (N, n_hidden)\n",
    "    logits = h @ W2 + b2 # (N, vocab_size)\n",
    "    loss = F.cross_entropy (logits, y)\n",
    "    print(split, loss.item())\n",
    "    \n",
    "split_loss('train')\n",
    "split_loss('val')"
   ]
  },
  {
   "cell_type": "code",
   "execution_count": null,
   "id": "a58986fe",
   "metadata": {},
   "outputs": [],
   "source": []
  },
  {
   "cell_type": "code",
   "execution_count": null,
   "id": "cef87e37",
   "metadata": {},
   "outputs": [],
   "source": [
    "xw"
   ]
  }
 ],
 "metadata": {
  "kernelspec": {
   "display_name": "base",
   "language": "python",
   "name": "python3"
  },
  "language_info": {
   "codemirror_mode": {
    "name": "ipython",
    "version": 3
   },
   "file_extension": ".py",
   "mimetype": "text/x-python",
   "name": "python",
   "nbconvert_exporter": "python",
   "pygments_lexer": "ipython3",
   "version": "3.10.9"
  }
 },
 "nbformat": 4,
 "nbformat_minor": 5
}
